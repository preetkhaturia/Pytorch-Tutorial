{
 "cells": [
  {
   "cell_type": "markdown",
   "metadata": {},
   "source": [
    "# Introduction to Deep Learning with PyTorch\n",
    "## Tensors in Pytorch\n",
    "\n",
    "This tutorial gives a basic introduction to [PyTorch](http://pytorch.org/), a deep learning framework deveploped by Facebook AI Research (FAIR). Pytorch uses Tensors instead of the Numpy arrays which can easily be moved to GPUs for fast training in deep Neural Networks. \n"
   ]
  },
  {
   "cell_type": "markdown",
   "metadata": {},
   "source": [
    "## Tensors"
   ]
  },
  {
   "cell_type": "code",
   "execution_count": 25,
   "metadata": {},
   "outputs": [
    {
     "name": "stdout",
     "output_type": "stream",
     "text": [
      "Numpy Array\n",
      "[[0. 0. 0.]\n",
      " [0. 0. 0.]\n",
      " [0. 0. 0.]\n",
      " [0. 0. 0.]]\n"
     ]
    }
   ],
   "source": [
    "import torch\n",
    "import numpy as np\n",
    "# A numpy array of zeros\n",
    "x = np.zeros((4,3))\n",
    "print(\"Numpy Array\")\n",
    "print(x)\n",
    "\n"
   ]
  },
  {
   "cell_type": "markdown",
   "metadata": {},
   "source": [
    " In a similar way we can create a torch array as follows"
   ]
  },
  {
   "cell_type": "code",
   "execution_count": 17,
   "metadata": {},
   "outputs": [
    {
     "name": "stdout",
     "output_type": "stream",
     "text": [
      "Torch Tensor\n",
      "tensor([[0., 0., 0.],\n",
      "        [0., 0., 0.],\n",
      "        [0., 0., 0.],\n",
      "        [0., 0., 0.],\n",
      "        [0., 0., 0.]])\n"
     ]
    }
   ],
   "source": [
    "\n",
    "print(\"Torch Tensor\")\n",
    "y = torch.zeros(5,3)\n",
    "print(y)"
   ]
  },
  {
   "cell_type": "markdown",
   "metadata": {},
   "source": [
    "A random torch tensor can be created as "
   ]
  },
  {
   "cell_type": "code",
   "execution_count": 58,
   "metadata": {},
   "outputs": [
    {
     "name": "stdout",
     "output_type": "stream",
     "text": [
      "tensor([[0.0830, 0.7932, 0.3187, 0.0404, 0.6001, 0.8693],\n",
      "        [0.4495, 0.9380, 0.0450, 0.5819, 0.2952, 0.5434],\n",
      "        [0.1237, 0.3424, 0.5582, 0.0219, 0.4490, 0.0623],\n",
      "        [0.2935, 0.9791, 0.0996, 0.6220, 0.3688, 0.4552],\n",
      "        [0.0588, 0.9088, 0.2955, 0.2313, 0.8230, 0.1191]])\n"
     ]
    }
   ],
   "source": [
    "\n",
    "tensor_r = torch.rand(5,6)\n",
    "print(tensor_r)"
   ]
  },
  {
   "cell_type": "markdown",
   "metadata": {},
   "source": [
    "Conversion of Numpy Array to Tensor and back!!!"
   ]
  },
  {
   "cell_type": "code",
   "execution_count": 73,
   "metadata": {},
   "outputs": [
    {
     "name": "stdout",
     "output_type": "stream",
     "text": [
      "Tensor from Numpy Array\n",
      "tensor([[1., 1., 1., 1.],\n",
      "        [1., 1., 1., 1.],\n",
      "        [1., 1., 1., 1.],\n",
      "        [1., 1., 1., 1.],\n",
      "        [1., 1., 1., 1.]], dtype=torch.float64)\n"
     ]
    }
   ],
   "source": [
    "\n",
    "a = np.ones((5,4))\n",
    "tensor_a = torch.from_numpy(a)\n",
    "print(\"Tensor from Numpy Array\")\n",
    "print(tensor_a)\n",
    "\n"
   ]
  },
  {
   "cell_type": "code",
   "execution_count": 72,
   "metadata": {},
   "outputs": [
    {
     "name": "stdout",
     "output_type": "stream",
     "text": [
      "Numpy array from Torch Tensor\n",
      "[[1. 1. 1. 1.]\n",
      " [1. 1. 1. 1.]\n",
      " [1. 1. 1. 1.]\n",
      " [1. 1. 1. 1.]\n",
      " [1. 1. 1. 1.]]\n"
     ]
    }
   ],
   "source": [
    "numpy_a = tensor_a.numpy()\n",
    "\n",
    "print(\"Numpy array from Torch Tensor\")\n",
    "print(numpy_a)"
   ]
  },
  {
   "cell_type": "markdown",
   "metadata": {},
   "source": [
    "An important point to keep in consideration is that numpy array and Tensor share memory, so if I change numpy array the torch tensor will also change,\n"
   ]
  },
  {
   "cell_type": "code",
   "execution_count": 75,
   "metadata": {},
   "outputs": [
    {
     "data": {
      "text/plain": [
       "tensor([[1.5574, 1.5574, 1.5574, 1.5574],\n",
       "        [1.5574, 1.5574, 1.5574, 1.5574],\n",
       "        [1.5574, 1.5574, 1.5574, 1.5574],\n",
       "        [1.5574, 1.5574, 1.5574, 1.5574],\n",
       "        [1.5574, 1.5574, 1.5574, 1.5574]], dtype=torch.float64)"
      ]
     },
     "execution_count": 75,
     "metadata": {},
     "output_type": "execute_result"
    }
   ],
   "source": [
    "torch.tan_(tensor_a)"
   ]
  },
  {
   "cell_type": "code",
   "execution_count": 78,
   "metadata": {},
   "outputs": [
    {
     "data": {
      "text/plain": [
       "array([[1.55740772, 1.55740772, 1.55740772, 1.55740772],\n",
       "       [1.55740772, 1.55740772, 1.55740772, 1.55740772],\n",
       "       [1.55740772, 1.55740772, 1.55740772, 1.55740772],\n",
       "       [1.55740772, 1.55740772, 1.55740772, 1.55740772],\n",
       "       [1.55740772, 1.55740772, 1.55740772, 1.55740772]])"
      ]
     },
     "execution_count": 78,
     "metadata": {},
     "output_type": "execute_result"
    }
   ],
   "source": [
    "a"
   ]
  },
  {
   "cell_type": "markdown",
   "metadata": {},
   "source": [
    "Note: Here, a and tensor_a are sharing the same memory."
   ]
  },
  {
   "cell_type": "markdown",
   "metadata": {},
   "source": [
    " A new tensor can be created based on the properties of the existing tensor( i.e. th same shape and data type of the existing tensor), unless explicitly specified"
   ]
  },
  {
   "cell_type": "code",
   "execution_count": 60,
   "metadata": {},
   "outputs": [
    {
     "name": "stdout",
     "output_type": "stream",
     "text": [
      "tensor([[0.8724, 0.6146, 0.7633, 0.3997, 0.8763, 0.4190],\n",
      "        [0.4628, 0.3883, 0.1589, 0.0023, 0.2522, 0.3508],\n",
      "        [0.9283, 0.8029, 0.3650, 0.1828, 0.1719, 0.7535],\n",
      "        [0.3464, 0.2966, 0.9455, 0.1520, 0.3840, 0.3658],\n",
      "        [0.8482, 0.8694, 0.7713, 0.4805, 0.7574, 0.7370]],\n",
      "       dtype=torch.float64)\n"
     ]
    }
   ],
   "source": [
    "new_tensor = torch.rand_like(tensor_r, dtype= torch.float64)\n",
    "print(new_tensor)"
   ]
  },
  {
   "cell_type": "markdown",
   "metadata": {},
   "source": [
    "To get the size of the tensor,"
   ]
  },
  {
   "cell_type": "code",
   "execution_count": 45,
   "metadata": {},
   "outputs": [
    {
     "data": {
      "text/plain": [
       "torch.Size([5, 5])"
      ]
     },
     "execution_count": 45,
     "metadata": {},
     "output_type": "execute_result"
    }
   ],
   "source": [
    "new_tensor.size()"
   ]
  },
  {
   "cell_type": "markdown",
   "metadata": {},
   "source": [
    "An operation on torch such as torch.copy_(), torch.tan_(), etc will change the value of the tensor in memory."
   ]
  },
  {
   "cell_type": "code",
   "execution_count": 55,
   "metadata": {},
   "outputs": [
    {
     "data": {
      "text/plain": [
       "tensor(-6.4053, dtype=torch.float64)"
      ]
     },
     "execution_count": 55,
     "metadata": {},
     "output_type": "execute_result"
    }
   ],
   "source": [
    "x= torch.tensor(30, dtype=torch.float64)\n",
    "print(x)\n",
    "torch.tan_(x)\n",
    "print(x)"
   ]
  },
  {
   "cell_type": "markdown",
   "metadata": {},
   "source": [
    "Note: The value of tensor is not same after torch.tan_() operation"
   ]
  },
  {
   "cell_type": "markdown",
   "metadata": {},
   "source": [
    "A new torch tensor can be reshaped into another shape as,"
   ]
  },
  {
   "cell_type": "code",
   "execution_count": 63,
   "metadata": {},
   "outputs": [],
   "source": [
    "# Considering new_tensor\n",
    " tensor_v = new_tensor.view(-1,3)"
   ]
  },
  {
   "cell_type": "markdown",
   "metadata": {},
   "source": [
    "The dimension if -1 will automatically inferred from other dimensions, in this case 10.  "
   ]
  },
  {
   "cell_type": "code",
   "execution_count": 64,
   "metadata": {},
   "outputs": [
    {
     "data": {
      "text/plain": [
       "tensor([[0.8724, 0.6146, 0.7633],\n",
       "        [0.3997, 0.8763, 0.4190],\n",
       "        [0.4628, 0.3883, 0.1589],\n",
       "        [0.0023, 0.2522, 0.3508],\n",
       "        [0.9283, 0.8029, 0.3650],\n",
       "        [0.1828, 0.1719, 0.7535],\n",
       "        [0.3464, 0.2966, 0.9455],\n",
       "        [0.1520, 0.3840, 0.3658],\n",
       "        [0.8482, 0.8694, 0.7713],\n",
       "        [0.4805, 0.7574, 0.7370]], dtype=torch.float64)"
      ]
     },
     "execution_count": 64,
     "metadata": {},
     "output_type": "execute_result"
    }
   ],
   "source": [
    "tensor_v"
   ]
  },
  {
   "cell_type": "markdown",
   "metadata": {},
   "source": [
    "### Note:\n",
    "To reshape a Torch tensor we can also use reshape() and resize_() functions. The function resize_() is a kind of inplace function which will replace the value of Torch tensor in the memory, without making a copy."
   ]
  },
  {
   "cell_type": "markdown",
   "metadata": {},
   "source": [
    "A very important function that we will be requiring in the further lessons, is the matrix multiplication required for computing the outputs in the neural networks.\n"
   ]
  },
  {
   "cell_type": "code",
   "execution_count": null,
   "metadata": {},
   "outputs": [],
   "source": [
    "torch.manual_seed(3)\n",
    "features = torch.randn((1, 5))\n",
    "# True weights for our data\n",
    "weights = torch.randn_like(features)\n",
    "\n",
    "out = torch.matmul(features,weights)"
   ]
  },
  {
   "cell_type": "markdown",
   "metadata": {},
   "source": [
    "You might have got an error due to size mismatch stating,\n",
    "### RuntimeError: size mismatch, m1: [1 x 5], m2: [1 x 5] at /opt/conda/condabld/pytorch_1533672544752/work/aten/src/TH/generic/THTensorMath.cpp:2070\n",
    "\n",
    "Can you use the view(), or resize() function to get the correct output?\n",
    "If everything works out perfectly you will get your output as \n",
    "### out= tensor([[1.4382]]) \n",
    "\n",
    ",or you can just call out.item() to get the tensor value.\n",
    "\n",
    "### out = 1.43820\n"
   ]
  },
  {
   "cell_type": "markdown",
   "metadata": {},
   "source": [
    "Moving the Tensor to Cuda!! To check if you are working on gpu devie,"
   ]
  },
  {
   "cell_type": "code",
   "execution_count": 79,
   "metadata": {},
   "outputs": [
    {
     "data": {
      "text/plain": [
       "True"
      ]
     },
     "execution_count": 79,
     "metadata": {},
     "output_type": "execute_result"
    }
   ],
   "source": [
    "torch.cuda.is_available()"
   ]
  },
  {
   "cell_type": "code",
   "execution_count": 81,
   "metadata": {},
   "outputs": [],
   "source": [
    "tensor_q= torch.rand(5,4)\n",
    "tensor_q = tensor_q.cuda()"
   ]
  },
  {
   "cell_type": "code",
   "execution_count": 82,
   "metadata": {},
   "outputs": [
    {
     "data": {
      "text/plain": [
       "tensor([[0.8639, 0.7967, 0.6456, 0.1351],\n",
       "        [0.6018, 0.7803, 0.7927, 0.2867],\n",
       "        [0.1770, 0.3268, 0.6489, 0.6362],\n",
       "        [0.5011, 0.0461, 0.7126, 0.1449],\n",
       "        [0.5392, 0.5188, 0.0305, 0.2849]], device='cuda:0')"
      ]
     },
     "execution_count": 82,
     "metadata": {},
     "output_type": "execute_result"
    }
   ],
   "source": [
    "tensor_q"
   ]
  },
  {
   "cell_type": "code",
   "execution_count": null,
   "metadata": {},
   "outputs": [],
   "source": []
  }
 ],
 "metadata": {
  "kernelspec": {
   "display_name": "Python 3",
   "language": "python",
   "name": "python3"
  },
  "language_info": {
   "codemirror_mode": {
    "name": "ipython",
    "version": 3
   },
   "file_extension": ".py",
   "mimetype": "text/x-python",
   "name": "python",
   "nbconvert_exporter": "python",
   "pygments_lexer": "ipython3",
   "version": "3.6.6"
  }
 },
 "nbformat": 4,
 "nbformat_minor": 2
}
